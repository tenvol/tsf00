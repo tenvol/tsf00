{
  "nbformat": 4,
  "nbformat_minor": 0,
  "metadata": {
    "colab": {
      "name": "Copy of sparsity_and_l1_regularization.ipynb",
      "version": "0.3.2",
      "provenance": [],
      "collapsed_sections": [
        "JndnmDMp66FL",
        "yjUCX5LAkxAX"
      ],
      "include_colab_link": true
    }
  },
  "cells": [
    {
      "cell_type": "markdown",
      "metadata": {
        "id": "view-in-github",
        "colab_type": "text"
      },
      "source": [
        "<a href=\"https://colab.research.google.com/github/tenvol/tsf00/blob/master/Copy_of_sparsity_and_l1_regularization.ipynb\" target=\"_parent\"><img src=\"https://colab.research.google.com/assets/colab-badge.svg\" alt=\"Open In Colab\"/></a>"
      ]
    },
    {
      "metadata": {
        "id": "JndnmDMp66FL",
        "colab_type": "text"
      },
      "cell_type": "markdown",
      "source": [
        "#### Copyright 2017 Google LLC."
      ]
    },
    {
      "metadata": {
        "id": "hMqWDc_m6rUC",
        "colab_type": "code",
        "cellView": "both",
        "colab": {}
      },
      "cell_type": "code",
      "source": [
        "# Licensed under the Apache License, Version 2.0 (the \"License\");\n",
        "# you may not use this file except in compliance with the License.\n",
        "# You may obtain a copy of the License at\n",
        "#\n",
        "# https://www.apache.org/licenses/LICENSE-2.0\n",
        "#\n",
        "# Unless required by applicable law or agreed to in writing, software\n",
        "# distributed under the License is distributed on an \"AS IS\" BASIS,\n",
        "# WITHOUT WARRANTIES OR CONDITIONS OF ANY KIND, either express or implied.\n",
        "# See the License for the specific language governing permissions and\n",
        "# limitations under the License."
      ],
      "execution_count": 0,
      "outputs": []
    },
    {
      "metadata": {
        "id": "g4T-_IsVbweU",
        "colab_type": "text"
      },
      "cell_type": "markdown",
      "source": [
        "# Sparsity and L1 Regularization"
      ]
    },
    {
      "metadata": {
        "id": "g8ue2FyFIjnQ",
        "colab_type": "text"
      },
      "cell_type": "markdown",
      "source": [
        "**Learning Objectives:**\n",
        "  * Calculate the size of a model\n",
        "  * Apply L1 regularization to reduce the size of a model by increasing sparsity"
      ]
    },
    {
      "metadata": {
        "id": "ME_WXE7cIjnS",
        "colab_type": "text"
      },
      "cell_type": "markdown",
      "source": [
        "One way to reduce complexity is to use a regularization function that encourages weights to be exactly zero. For linear models such as regression, a zero weight is equivalent to not using the corresponding feature at all. In addition to avoiding overfitting, the resulting model will be more efficient.\n",
        "\n",
        "L1 regularization is a good way to increase sparsity.\n",
        "\n"
      ]
    },
    {
      "metadata": {
        "id": "8K8MLvKgHuKz",
        "colab_type": "code",
        "colab": {}
      },
      "cell_type": "code",
      "source": [
        ""
      ],
      "execution_count": 0,
      "outputs": []
    },
    {
      "metadata": {
        "id": "QJOFVJxRHtvX",
        "colab_type": "text"
      },
      "cell_type": "markdown",
      "source": [
        ""
      ]
    },
    {
      "metadata": {
        "id": "03g6bUW0HtKU",
        "colab_type": "code",
        "colab": {}
      },
      "cell_type": "code",
      "source": [
        ""
      ],
      "execution_count": 0,
      "outputs": []
    },
    {
      "metadata": {
        "id": "fHRzeWkRLrHF",
        "colab_type": "text"
      },
      "cell_type": "markdown",
      "source": [
        "## Setup\n",
        "\n",
        "Run the cells below to load the data and create feature definitions."
      ]
    },
    {
      "metadata": {
        "id": "pb7rSrLKIjnS",
        "colab_type": "code",
        "colab": {}
      },
      "cell_type": "code",
      "source": [
        "from __future__ import print_function\n",
        "\n",
        "import math\n",
        "\n",
        "from IPython import display\n",
        "from matplotlib import cm\n",
        "from matplotlib import gridspec\n",
        "from matplotlib import pyplot as plt\n",
        "import numpy as np\n",
        "import pandas as pd\n",
        "from sklearn import metrics\n",
        "import tensorflow as tf\n",
        "from tensorflow.python.data import Dataset\n",
        "\n",
        "tf.logging.set_verbosity(tf.logging.ERROR)\n",
        "pd.options.display.max_rows = 10\n",
        "pd.options.display.float_format = '{:.1f}'.format\n",
        "\n",
        "california_housing_dataframe = pd.read_csv(\"https://download.mlcc.google.com/mledu-datasets/california_housing_train.csv\", sep=\",\")\n",
        "\n",
        "california_housing_dataframe = california_housing_dataframe.reindex(\n",
        "    np.random.permutation(california_housing_dataframe.index))"
      ],
      "execution_count": 0,
      "outputs": []
    },
    {
      "metadata": {
        "id": "tlrpnUiNIfuM",
        "colab_type": "code",
        "outputId": "14d45832-0f01-4c10-f229-d0c75be36078",
        "colab": {
          "base_uri": "https://localhost:8080/",
          "height": 238
        }
      },
      "cell_type": "code",
      "source": [
        "np.random.permutation(np.linspace(1,100))"
      ],
      "execution_count": 2,
      "outputs": [
        {
          "output_type": "execute_result",
          "data": {
            "text/plain": [
              "array([ 63.63265306,  43.42857143,  33.32653061,  95.95918367,\n",
              "        73.73469388,  17.16326531,  11.10204082,   1.        ,\n",
              "        93.93877551,  97.97959184,  27.26530612,  85.85714286,\n",
              "        13.12244898,  45.44897959,  53.53061224,  15.14285714,\n",
              "        77.7755102 , 100.        ,  71.71428571,  91.91836735,\n",
              "        75.75510204,  29.28571429,  19.18367347,  35.34693878,\n",
              "        87.87755102,  55.55102041,  57.57142857,  39.3877551 ,\n",
              "        41.40816327,  61.6122449 ,   9.08163265,   5.04081633,\n",
              "        67.67346939,  31.30612245,  47.46938776,   3.02040816,\n",
              "        83.83673469,  69.69387755,  51.51020408,  21.20408163,\n",
              "        49.48979592,  23.2244898 ,  65.65306122,   7.06122449,\n",
              "        79.79591837,  25.24489796,  89.89795918,  37.36734694,\n",
              "        59.59183673,  81.81632653])"
            ]
          },
          "metadata": {
            "tags": []
          },
          "execution_count": 2
        }
      ]
    },
    {
      "metadata": {
        "id": "tE6uWvl3IyDS",
        "colab_type": "code",
        "outputId": "c282d07d-bee2-4780-d2ef-5886b60f7706",
        "colab": {
          "base_uri": "https://localhost:8080/",
          "height": 238
        }
      },
      "cell_type": "code",
      "source": [
        "np.linspace(1,100)"
      ],
      "execution_count": 3,
      "outputs": [
        {
          "output_type": "execute_result",
          "data": {
            "text/plain": [
              "array([  1.        ,   3.02040816,   5.04081633,   7.06122449,\n",
              "         9.08163265,  11.10204082,  13.12244898,  15.14285714,\n",
              "        17.16326531,  19.18367347,  21.20408163,  23.2244898 ,\n",
              "        25.24489796,  27.26530612,  29.28571429,  31.30612245,\n",
              "        33.32653061,  35.34693878,  37.36734694,  39.3877551 ,\n",
              "        41.40816327,  43.42857143,  45.44897959,  47.46938776,\n",
              "        49.48979592,  51.51020408,  53.53061224,  55.55102041,\n",
              "        57.57142857,  59.59183673,  61.6122449 ,  63.63265306,\n",
              "        65.65306122,  67.67346939,  69.69387755,  71.71428571,\n",
              "        73.73469388,  75.75510204,  77.7755102 ,  79.79591837,\n",
              "        81.81632653,  83.83673469,  85.85714286,  87.87755102,\n",
              "        89.89795918,  91.91836735,  93.93877551,  95.95918367,\n",
              "        97.97959184, 100.        ])"
            ]
          },
          "metadata": {
            "tags": []
          },
          "execution_count": 3
        }
      ]
    },
    {
      "metadata": {
        "id": "3V7q8jk0IjnW",
        "colab_type": "code",
        "colab": {}
      },
      "cell_type": "code",
      "source": [
        "def preprocess_features(california_housing_dataframe):\n",
        "  \"\"\"Prepares input features from California housing data set.\n",
        "\n",
        "  Args:\n",
        "    california_housing_dataframe: A Pandas DataFrame expected to contain data\n",
        "      from the California housing data set.\n",
        "  Returns:\n",
        "    A DataFrame that contains the features to be used for the model, including\n",
        "    synthetic features.\n",
        "  \"\"\"\n",
        "  selected_features = california_housing_dataframe[\n",
        "    [\"latitude\",\n",
        "     \"longitude\",\n",
        "     \"housing_median_age\",\n",
        "     \"total_rooms\",\n",
        "     \"total_bedrooms\",\n",
        "     \"population\",\n",
        "     \"households\",\n",
        "     \"median_income\"]]\n",
        "  processed_features = selected_features.copy()\n",
        "  # Create a synthetic feature.\n",
        "  processed_features[\"rooms_per_person\"] = (\n",
        "    california_housing_dataframe[\"total_rooms\"] /\n",
        "    california_housing_dataframe[\"population\"])\n",
        "  return processed_features\n",
        "\n",
        "def preprocess_targets(california_housing_dataframe):\n",
        "  \"\"\"Prepares target features (i.e., labels) from California housing data set.\n",
        "\n",
        "  Args:\n",
        "    california_housing_dataframe: A Pandas DataFrame expected to contain data\n",
        "      from the California housing data set.\n",
        "  Returns:\n",
        "    A DataFrame that contains the target feature.\n",
        "  \"\"\"\n",
        "  output_targets = pd.DataFrame()\n",
        "  # Create a boolean categorical feature representing whether the\n",
        "  # median_house_value is above a set threshold.\n",
        "  output_targets[\"median_house_value_is_high\"] = (\n",
        "    california_housing_dataframe[\"median_house_value\"] > 265000).astype(float)\n",
        "  return output_targets"
      ],
      "execution_count": 0,
      "outputs": []
    },
    {
      "metadata": {
        "id": "eHBMhX6OJy9d",
        "colab_type": "code",
        "outputId": "3f46224f-7e92-49ca-a2e8-3e3d03a585a6",
        "colab": {
          "base_uri": "https://localhost:8080/",
          "height": 221
        }
      },
      "cell_type": "code",
      "source": [
        "california_housing_dataframe['median_house_value'] > 265000"
      ],
      "execution_count": 5,
      "outputs": [
        {
          "output_type": "execute_result",
          "data": {
            "text/plain": [
              "5459     False\n",
              "15144    False\n",
              "7023      True\n",
              "366       True\n",
              "14345     True\n",
              "         ...  \n",
              "2110     False\n",
              "12450     True\n",
              "850      False\n",
              "2555     False\n",
              "570      False\n",
              "Name: median_house_value, Length: 17000, dtype: bool"
            ]
          },
          "metadata": {
            "tags": []
          },
          "execution_count": 5
        }
      ]
    },
    {
      "metadata": {
        "id": "btE868JrJ5L0",
        "colab_type": "code",
        "outputId": "5a2a67ec-110e-479a-ec2d-7d3fcb772b34",
        "colab": {
          "base_uri": "https://localhost:8080/",
          "height": 221
        }
      },
      "cell_type": "code",
      "source": [
        "(california_housing_dataframe['median_house_value'] > 265000).astype(float)"
      ],
      "execution_count": 6,
      "outputs": [
        {
          "output_type": "execute_result",
          "data": {
            "text/plain": [
              "5459    0.0\n",
              "15144   0.0\n",
              "7023    1.0\n",
              "366     1.0\n",
              "14345   1.0\n",
              "         ..\n",
              "2110    0.0\n",
              "12450   1.0\n",
              "850     0.0\n",
              "2555    0.0\n",
              "570     0.0\n",
              "Name: median_house_value, Length: 17000, dtype: float64"
            ]
          },
          "metadata": {
            "tags": []
          },
          "execution_count": 6
        }
      ]
    },
    {
      "metadata": {
        "id": "EIKEyN3eKF13",
        "colab_type": "code",
        "outputId": "33b0f270-c99f-4c9d-88c5-17a4c5c004c2",
        "colab": {
          "base_uri": "https://localhost:8080/",
          "height": 221
        }
      },
      "cell_type": "code",
      "source": [
        "(california_housing_dataframe['median_house_value'] > 265000)*1"
      ],
      "execution_count": 7,
      "outputs": [
        {
          "output_type": "execute_result",
          "data": {
            "text/plain": [
              "5459     0\n",
              "15144    0\n",
              "7023     1\n",
              "366      1\n",
              "14345    1\n",
              "        ..\n",
              "2110     0\n",
              "12450    1\n",
              "850      0\n",
              "2555     0\n",
              "570      0\n",
              "Name: median_house_value, Length: 17000, dtype: int64"
            ]
          },
          "metadata": {
            "tags": []
          },
          "execution_count": 7
        }
      ]
    },
    {
      "metadata": {
        "id": "hlW00torKNcn",
        "colab_type": "code",
        "colab": {}
      },
      "cell_type": "code",
      "source": [
        ""
      ],
      "execution_count": 0,
      "outputs": []
    },
    {
      "metadata": {
        "id": "pAG3tmgwIjnY",
        "colab_type": "code",
        "outputId": "030a37c3-2305-46ca-c787-c193665221ed",
        "colab": {
          "base_uri": "https://localhost:8080/",
          "height": 1205
        }
      },
      "cell_type": "code",
      "source": [
        "# Choose the first 12000 (out of 17000) examples for training.\n",
        "training_examples = preprocess_features(california_housing_dataframe.head(12000))\n",
        "training_targets = preprocess_targets(california_housing_dataframe.head(12000))\n",
        "\n",
        "# Choose the last 5000 (out of 17000) examples for validation.\n",
        "validation_examples = preprocess_features(california_housing_dataframe.tail(5000))\n",
        "validation_targets = preprocess_targets(california_housing_dataframe.tail(5000))\n",
        "\n",
        "# Double-check that we've done the right thing.\n",
        "print(\"Training examples summary:\")\n",
        "display.display(training_examples.describe())\n",
        "print(\"Validation examples summary:\")\n",
        "display.display(validation_examples.describe())\n",
        "\n",
        "print(\"Training targets summary:\")\n",
        "display.display(training_targets.describe())\n",
        "print(\"Validation targets summary:\")\n",
        "display.display(validation_targets.describe())"
      ],
      "execution_count": 8,
      "outputs": [
        {
          "output_type": "stream",
          "text": [
            "Training examples summary:\n"
          ],
          "name": "stdout"
        },
        {
          "output_type": "display_data",
          "data": {
            "text/plain": [
              "       latitude  longitude  housing_median_age  total_rooms  total_bedrooms  \\\n",
              "count   12000.0    12000.0             12000.0      12000.0         12000.0   \n",
              "mean       35.6     -119.6                28.6       2633.9           537.0   \n",
              "std         2.1        2.0                12.6       2159.4           416.6   \n",
              "min        32.5     -124.3                 1.0          2.0             1.0   \n",
              "25%        33.9     -121.8                18.0       1461.0           295.0   \n",
              "50%        34.3     -118.5                29.0       2124.0           431.0   \n",
              "75%        37.7     -118.0                37.0       3148.0           644.0   \n",
              "max        42.0     -114.5                52.0      37937.0          5471.0   \n",
              "\n",
              "       population  households  median_income  rooms_per_person  \n",
              "count     12000.0     12000.0        12000.0           12000.0  \n",
              "mean       1420.0       498.4            3.9               2.0  \n",
              "std        1094.4       378.9            1.9               1.2  \n",
              "min           6.0         1.0            0.5               0.0  \n",
              "25%         786.0       281.0            2.6               1.5  \n",
              "50%        1163.0       407.0            3.5               1.9  \n",
              "75%        1714.0       601.0            4.8               2.3  \n",
              "max       16122.0      5189.0           15.0              55.2  "
            ],
            "text/html": [
              "<div>\n",
              "<style scoped>\n",
              "    .dataframe tbody tr th:only-of-type {\n",
              "        vertical-align: middle;\n",
              "    }\n",
              "\n",
              "    .dataframe tbody tr th {\n",
              "        vertical-align: top;\n",
              "    }\n",
              "\n",
              "    .dataframe thead th {\n",
              "        text-align: right;\n",
              "    }\n",
              "</style>\n",
              "<table border=\"1\" class=\"dataframe\">\n",
              "  <thead>\n",
              "    <tr style=\"text-align: right;\">\n",
              "      <th></th>\n",
              "      <th>latitude</th>\n",
              "      <th>longitude</th>\n",
              "      <th>housing_median_age</th>\n",
              "      <th>total_rooms</th>\n",
              "      <th>total_bedrooms</th>\n",
              "      <th>population</th>\n",
              "      <th>households</th>\n",
              "      <th>median_income</th>\n",
              "      <th>rooms_per_person</th>\n",
              "    </tr>\n",
              "  </thead>\n",
              "  <tbody>\n",
              "    <tr>\n",
              "      <th>count</th>\n",
              "      <td>12000.0</td>\n",
              "      <td>12000.0</td>\n",
              "      <td>12000.0</td>\n",
              "      <td>12000.0</td>\n",
              "      <td>12000.0</td>\n",
              "      <td>12000.0</td>\n",
              "      <td>12000.0</td>\n",
              "      <td>12000.0</td>\n",
              "      <td>12000.0</td>\n",
              "    </tr>\n",
              "    <tr>\n",
              "      <th>mean</th>\n",
              "      <td>35.6</td>\n",
              "      <td>-119.6</td>\n",
              "      <td>28.6</td>\n",
              "      <td>2633.9</td>\n",
              "      <td>537.0</td>\n",
              "      <td>1420.0</td>\n",
              "      <td>498.4</td>\n",
              "      <td>3.9</td>\n",
              "      <td>2.0</td>\n",
              "    </tr>\n",
              "    <tr>\n",
              "      <th>std</th>\n",
              "      <td>2.1</td>\n",
              "      <td>2.0</td>\n",
              "      <td>12.6</td>\n",
              "      <td>2159.4</td>\n",
              "      <td>416.6</td>\n",
              "      <td>1094.4</td>\n",
              "      <td>378.9</td>\n",
              "      <td>1.9</td>\n",
              "      <td>1.2</td>\n",
              "    </tr>\n",
              "    <tr>\n",
              "      <th>min</th>\n",
              "      <td>32.5</td>\n",
              "      <td>-124.3</td>\n",
              "      <td>1.0</td>\n",
              "      <td>2.0</td>\n",
              "      <td>1.0</td>\n",
              "      <td>6.0</td>\n",
              "      <td>1.0</td>\n",
              "      <td>0.5</td>\n",
              "      <td>0.0</td>\n",
              "    </tr>\n",
              "    <tr>\n",
              "      <th>25%</th>\n",
              "      <td>33.9</td>\n",
              "      <td>-121.8</td>\n",
              "      <td>18.0</td>\n",
              "      <td>1461.0</td>\n",
              "      <td>295.0</td>\n",
              "      <td>786.0</td>\n",
              "      <td>281.0</td>\n",
              "      <td>2.6</td>\n",
              "      <td>1.5</td>\n",
              "    </tr>\n",
              "    <tr>\n",
              "      <th>50%</th>\n",
              "      <td>34.3</td>\n",
              "      <td>-118.5</td>\n",
              "      <td>29.0</td>\n",
              "      <td>2124.0</td>\n",
              "      <td>431.0</td>\n",
              "      <td>1163.0</td>\n",
              "      <td>407.0</td>\n",
              "      <td>3.5</td>\n",
              "      <td>1.9</td>\n",
              "    </tr>\n",
              "    <tr>\n",
              "      <th>75%</th>\n",
              "      <td>37.7</td>\n",
              "      <td>-118.0</td>\n",
              "      <td>37.0</td>\n",
              "      <td>3148.0</td>\n",
              "      <td>644.0</td>\n",
              "      <td>1714.0</td>\n",
              "      <td>601.0</td>\n",
              "      <td>4.8</td>\n",
              "      <td>2.3</td>\n",
              "    </tr>\n",
              "    <tr>\n",
              "      <th>max</th>\n",
              "      <td>42.0</td>\n",
              "      <td>-114.5</td>\n",
              "      <td>52.0</td>\n",
              "      <td>37937.0</td>\n",
              "      <td>5471.0</td>\n",
              "      <td>16122.0</td>\n",
              "      <td>5189.0</td>\n",
              "      <td>15.0</td>\n",
              "      <td>55.2</td>\n",
              "    </tr>\n",
              "  </tbody>\n",
              "</table>\n",
              "</div>"
            ]
          },
          "metadata": {
            "tags": []
          }
        },
        {
          "output_type": "stream",
          "text": [
            "Validation examples summary:\n"
          ],
          "name": "stdout"
        },
        {
          "output_type": "display_data",
          "data": {
            "text/plain": [
              "       latitude  longitude  housing_median_age  total_rooms  total_bedrooms  \\\n",
              "count    5000.0     5000.0              5000.0       5000.0          5000.0   \n",
              "mean       35.6     -119.5                28.7       2667.0           545.3   \n",
              "std         2.1        2.0                12.6       2228.5           433.1   \n",
              "min        32.5     -124.3                 1.0         15.0             3.0   \n",
              "25%        33.9     -121.8                18.0       1465.0           300.0   \n",
              "50%        34.2     -118.5                29.0       2138.0           441.0   \n",
              "75%        37.7     -118.0                37.0       3157.0           659.2   \n",
              "max        41.9     -114.3                52.0      32627.0          6445.0   \n",
              "\n",
              "       population  households  median_income  rooms_per_person  \n",
              "count      5000.0      5000.0         5000.0            5000.0  \n",
              "mean       1452.5       507.9            3.9               2.0  \n",
              "std        1266.8       397.6            1.9               1.2  \n",
              "min           3.0         3.0            0.5               0.1  \n",
              "25%         800.0       285.0            2.6               1.5  \n",
              "50%        1176.0       414.0            3.5               1.9  \n",
              "75%        1747.2       614.0            4.8               2.3  \n",
              "max       35682.0      6082.0           15.0              41.3  "
            ],
            "text/html": [
              "<div>\n",
              "<style scoped>\n",
              "    .dataframe tbody tr th:only-of-type {\n",
              "        vertical-align: middle;\n",
              "    }\n",
              "\n",
              "    .dataframe tbody tr th {\n",
              "        vertical-align: top;\n",
              "    }\n",
              "\n",
              "    .dataframe thead th {\n",
              "        text-align: right;\n",
              "    }\n",
              "</style>\n",
              "<table border=\"1\" class=\"dataframe\">\n",
              "  <thead>\n",
              "    <tr style=\"text-align: right;\">\n",
              "      <th></th>\n",
              "      <th>latitude</th>\n",
              "      <th>longitude</th>\n",
              "      <th>housing_median_age</th>\n",
              "      <th>total_rooms</th>\n",
              "      <th>total_bedrooms</th>\n",
              "      <th>population</th>\n",
              "      <th>households</th>\n",
              "      <th>median_income</th>\n",
              "      <th>rooms_per_person</th>\n",
              "    </tr>\n",
              "  </thead>\n",
              "  <tbody>\n",
              "    <tr>\n",
              "      <th>count</th>\n",
              "      <td>5000.0</td>\n",
              "      <td>5000.0</td>\n",
              "      <td>5000.0</td>\n",
              "      <td>5000.0</td>\n",
              "      <td>5000.0</td>\n",
              "      <td>5000.0</td>\n",
              "      <td>5000.0</td>\n",
              "      <td>5000.0</td>\n",
              "      <td>5000.0</td>\n",
              "    </tr>\n",
              "    <tr>\n",
              "      <th>mean</th>\n",
              "      <td>35.6</td>\n",
              "      <td>-119.5</td>\n",
              "      <td>28.7</td>\n",
              "      <td>2667.0</td>\n",
              "      <td>545.3</td>\n",
              "      <td>1452.5</td>\n",
              "      <td>507.9</td>\n",
              "      <td>3.9</td>\n",
              "      <td>2.0</td>\n",
              "    </tr>\n",
              "    <tr>\n",
              "      <th>std</th>\n",
              "      <td>2.1</td>\n",
              "      <td>2.0</td>\n",
              "      <td>12.6</td>\n",
              "      <td>2228.5</td>\n",
              "      <td>433.1</td>\n",
              "      <td>1266.8</td>\n",
              "      <td>397.6</td>\n",
              "      <td>1.9</td>\n",
              "      <td>1.2</td>\n",
              "    </tr>\n",
              "    <tr>\n",
              "      <th>min</th>\n",
              "      <td>32.5</td>\n",
              "      <td>-124.3</td>\n",
              "      <td>1.0</td>\n",
              "      <td>15.0</td>\n",
              "      <td>3.0</td>\n",
              "      <td>3.0</td>\n",
              "      <td>3.0</td>\n",
              "      <td>0.5</td>\n",
              "      <td>0.1</td>\n",
              "    </tr>\n",
              "    <tr>\n",
              "      <th>25%</th>\n",
              "      <td>33.9</td>\n",
              "      <td>-121.8</td>\n",
              "      <td>18.0</td>\n",
              "      <td>1465.0</td>\n",
              "      <td>300.0</td>\n",
              "      <td>800.0</td>\n",
              "      <td>285.0</td>\n",
              "      <td>2.6</td>\n",
              "      <td>1.5</td>\n",
              "    </tr>\n",
              "    <tr>\n",
              "      <th>50%</th>\n",
              "      <td>34.2</td>\n",
              "      <td>-118.5</td>\n",
              "      <td>29.0</td>\n",
              "      <td>2138.0</td>\n",
              "      <td>441.0</td>\n",
              "      <td>1176.0</td>\n",
              "      <td>414.0</td>\n",
              "      <td>3.5</td>\n",
              "      <td>1.9</td>\n",
              "    </tr>\n",
              "    <tr>\n",
              "      <th>75%</th>\n",
              "      <td>37.7</td>\n",
              "      <td>-118.0</td>\n",
              "      <td>37.0</td>\n",
              "      <td>3157.0</td>\n",
              "      <td>659.2</td>\n",
              "      <td>1747.2</td>\n",
              "      <td>614.0</td>\n",
              "      <td>4.8</td>\n",
              "      <td>2.3</td>\n",
              "    </tr>\n",
              "    <tr>\n",
              "      <th>max</th>\n",
              "      <td>41.9</td>\n",
              "      <td>-114.3</td>\n",
              "      <td>52.0</td>\n",
              "      <td>32627.0</td>\n",
              "      <td>6445.0</td>\n",
              "      <td>35682.0</td>\n",
              "      <td>6082.0</td>\n",
              "      <td>15.0</td>\n",
              "      <td>41.3</td>\n",
              "    </tr>\n",
              "  </tbody>\n",
              "</table>\n",
              "</div>"
            ]
          },
          "metadata": {
            "tags": []
          }
        },
        {
          "output_type": "stream",
          "text": [
            "Training targets summary:\n"
          ],
          "name": "stdout"
        },
        {
          "output_type": "display_data",
          "data": {
            "text/plain": [
              "       median_house_value_is_high\n",
              "count                     12000.0\n",
              "mean                          0.2\n",
              "std                           0.4\n",
              "min                           0.0\n",
              "25%                           0.0\n",
              "50%                           0.0\n",
              "75%                           0.2\n",
              "max                           1.0"
            ],
            "text/html": [
              "<div>\n",
              "<style scoped>\n",
              "    .dataframe tbody tr th:only-of-type {\n",
              "        vertical-align: middle;\n",
              "    }\n",
              "\n",
              "    .dataframe tbody tr th {\n",
              "        vertical-align: top;\n",
              "    }\n",
              "\n",
              "    .dataframe thead th {\n",
              "        text-align: right;\n",
              "    }\n",
              "</style>\n",
              "<table border=\"1\" class=\"dataframe\">\n",
              "  <thead>\n",
              "    <tr style=\"text-align: right;\">\n",
              "      <th></th>\n",
              "      <th>median_house_value_is_high</th>\n",
              "    </tr>\n",
              "  </thead>\n",
              "  <tbody>\n",
              "    <tr>\n",
              "      <th>count</th>\n",
              "      <td>12000.0</td>\n",
              "    </tr>\n",
              "    <tr>\n",
              "      <th>mean</th>\n",
              "      <td>0.2</td>\n",
              "    </tr>\n",
              "    <tr>\n",
              "      <th>std</th>\n",
              "      <td>0.4</td>\n",
              "    </tr>\n",
              "    <tr>\n",
              "      <th>min</th>\n",
              "      <td>0.0</td>\n",
              "    </tr>\n",
              "    <tr>\n",
              "      <th>25%</th>\n",
              "      <td>0.0</td>\n",
              "    </tr>\n",
              "    <tr>\n",
              "      <th>50%</th>\n",
              "      <td>0.0</td>\n",
              "    </tr>\n",
              "    <tr>\n",
              "      <th>75%</th>\n",
              "      <td>0.2</td>\n",
              "    </tr>\n",
              "    <tr>\n",
              "      <th>max</th>\n",
              "      <td>1.0</td>\n",
              "    </tr>\n",
              "  </tbody>\n",
              "</table>\n",
              "</div>"
            ]
          },
          "metadata": {
            "tags": []
          }
        },
        {
          "output_type": "stream",
          "text": [
            "Validation targets summary:\n"
          ],
          "name": "stdout"
        },
        {
          "output_type": "display_data",
          "data": {
            "text/plain": [
              "       median_house_value_is_high\n",
              "count                      5000.0\n",
              "mean                          0.2\n",
              "std                           0.4\n",
              "min                           0.0\n",
              "25%                           0.0\n",
              "50%                           0.0\n",
              "75%                           0.0\n",
              "max                           1.0"
            ],
            "text/html": [
              "<div>\n",
              "<style scoped>\n",
              "    .dataframe tbody tr th:only-of-type {\n",
              "        vertical-align: middle;\n",
              "    }\n",
              "\n",
              "    .dataframe tbody tr th {\n",
              "        vertical-align: top;\n",
              "    }\n",
              "\n",
              "    .dataframe thead th {\n",
              "        text-align: right;\n",
              "    }\n",
              "</style>\n",
              "<table border=\"1\" class=\"dataframe\">\n",
              "  <thead>\n",
              "    <tr style=\"text-align: right;\">\n",
              "      <th></th>\n",
              "      <th>median_house_value_is_high</th>\n",
              "    </tr>\n",
              "  </thead>\n",
              "  <tbody>\n",
              "    <tr>\n",
              "      <th>count</th>\n",
              "      <td>5000.0</td>\n",
              "    </tr>\n",
              "    <tr>\n",
              "      <th>mean</th>\n",
              "      <td>0.2</td>\n",
              "    </tr>\n",
              "    <tr>\n",
              "      <th>std</th>\n",
              "      <td>0.4</td>\n",
              "    </tr>\n",
              "    <tr>\n",
              "      <th>min</th>\n",
              "      <td>0.0</td>\n",
              "    </tr>\n",
              "    <tr>\n",
              "      <th>25%</th>\n",
              "      <td>0.0</td>\n",
              "    </tr>\n",
              "    <tr>\n",
              "      <th>50%</th>\n",
              "      <td>0.0</td>\n",
              "    </tr>\n",
              "    <tr>\n",
              "      <th>75%</th>\n",
              "      <td>0.0</td>\n",
              "    </tr>\n",
              "    <tr>\n",
              "      <th>max</th>\n",
              "      <td>1.0</td>\n",
              "    </tr>\n",
              "  </tbody>\n",
              "</table>\n",
              "</div>"
            ]
          },
          "metadata": {
            "tags": []
          }
        }
      ]
    },
    {
      "metadata": {
        "id": "9ggNBDGJP2wl",
        "colab_type": "code",
        "outputId": "54665c89-e9ae-4ec4-f253-9d9ceff7c2d1",
        "colab": {
          "base_uri": "https://localhost:8080/",
          "height": 85
        }
      },
      "cell_type": "code",
      "source": [
        "training_examples.columns"
      ],
      "execution_count": 9,
      "outputs": [
        {
          "output_type": "execute_result",
          "data": {
            "text/plain": [
              "Index([u'latitude', u'longitude', u'housing_median_age', u'total_rooms',\n",
              "       u'total_bedrooms', u'population', u'households', u'median_income',\n",
              "       u'rooms_per_person'],\n",
              "      dtype='object')"
            ]
          },
          "metadata": {
            "tags": []
          },
          "execution_count": 9
        }
      ]
    },
    {
      "metadata": {
        "id": "X5TNpuxgSMO5",
        "colab_type": "code",
        "outputId": "cf83f573-a513-4944-d4e5-2884928dbacd",
        "colab": {
          "base_uri": "https://localhost:8080/",
          "height": 328
        }
      },
      "cell_type": "code",
      "source": [
        "training_examples.head(9)"
      ],
      "execution_count": 10,
      "outputs": [
        {
          "output_type": "execute_result",
          "data": {
            "text/html": [
              "<div>\n",
              "<style scoped>\n",
              "    .dataframe tbody tr th:only-of-type {\n",
              "        vertical-align: middle;\n",
              "    }\n",
              "\n",
              "    .dataframe tbody tr th {\n",
              "        vertical-align: top;\n",
              "    }\n",
              "\n",
              "    .dataframe thead th {\n",
              "        text-align: right;\n",
              "    }\n",
              "</style>\n",
              "<table border=\"1\" class=\"dataframe\">\n",
              "  <thead>\n",
              "    <tr style=\"text-align: right;\">\n",
              "      <th></th>\n",
              "      <th>latitude</th>\n",
              "      <th>longitude</th>\n",
              "      <th>housing_median_age</th>\n",
              "      <th>total_rooms</th>\n",
              "      <th>total_bedrooms</th>\n",
              "      <th>population</th>\n",
              "      <th>households</th>\n",
              "      <th>median_income</th>\n",
              "      <th>rooms_per_person</th>\n",
              "    </tr>\n",
              "  </thead>\n",
              "  <tbody>\n",
              "    <tr>\n",
              "      <th>5459</th>\n",
              "      <td>34.0</td>\n",
              "      <td>-118.2</td>\n",
              "      <td>37.0</td>\n",
              "      <td>690.0</td>\n",
              "      <td>261.0</td>\n",
              "      <td>952.0</td>\n",
              "      <td>255.0</td>\n",
              "      <td>1.6</td>\n",
              "      <td>0.7</td>\n",
              "    </tr>\n",
              "    <tr>\n",
              "      <th>15144</th>\n",
              "      <td>37.8</td>\n",
              "      <td>-122.3</td>\n",
              "      <td>29.0</td>\n",
              "      <td>335.0</td>\n",
              "      <td>107.0</td>\n",
              "      <td>202.0</td>\n",
              "      <td>91.0</td>\n",
              "      <td>2.0</td>\n",
              "      <td>1.7</td>\n",
              "    </tr>\n",
              "    <tr>\n",
              "      <th>7023</th>\n",
              "      <td>33.8</td>\n",
              "      <td>-118.3</td>\n",
              "      <td>30.0</td>\n",
              "      <td>1773.0</td>\n",
              "      <td>356.0</td>\n",
              "      <td>905.0</td>\n",
              "      <td>352.0</td>\n",
              "      <td>4.3</td>\n",
              "      <td>2.0</td>\n",
              "    </tr>\n",
              "    <tr>\n",
              "      <th>366</th>\n",
              "      <td>32.7</td>\n",
              "      <td>-116.9</td>\n",
              "      <td>8.0</td>\n",
              "      <td>4630.0</td>\n",
              "      <td>624.0</td>\n",
              "      <td>2048.0</td>\n",
              "      <td>575.0</td>\n",
              "      <td>6.5</td>\n",
              "      <td>2.3</td>\n",
              "    </tr>\n",
              "    <tr>\n",
              "      <th>14345</th>\n",
              "      <td>37.4</td>\n",
              "      <td>-122.1</td>\n",
              "      <td>37.0</td>\n",
              "      <td>2511.0</td>\n",
              "      <td>354.0</td>\n",
              "      <td>945.0</td>\n",
              "      <td>348.0</td>\n",
              "      <td>8.4</td>\n",
              "      <td>2.7</td>\n",
              "    </tr>\n",
              "    <tr>\n",
              "      <th>13974</th>\n",
              "      <td>37.9</td>\n",
              "      <td>-122.0</td>\n",
              "      <td>20.0</td>\n",
              "      <td>5467.0</td>\n",
              "      <td>1044.0</td>\n",
              "      <td>2310.0</td>\n",
              "      <td>963.0</td>\n",
              "      <td>5.7</td>\n",
              "      <td>2.4</td>\n",
              "    </tr>\n",
              "    <tr>\n",
              "      <th>7161</th>\n",
              "      <td>33.4</td>\n",
              "      <td>-118.3</td>\n",
              "      <td>27.0</td>\n",
              "      <td>1675.0</td>\n",
              "      <td>521.0</td>\n",
              "      <td>744.0</td>\n",
              "      <td>331.0</td>\n",
              "      <td>2.2</td>\n",
              "      <td>2.3</td>\n",
              "    </tr>\n",
              "    <tr>\n",
              "      <th>2352</th>\n",
              "      <td>33.9</td>\n",
              "      <td>-117.5</td>\n",
              "      <td>26.0</td>\n",
              "      <td>2970.0</td>\n",
              "      <td>576.0</td>\n",
              "      <td>2156.0</td>\n",
              "      <td>558.0</td>\n",
              "      <td>4.0</td>\n",
              "      <td>1.4</td>\n",
              "    </tr>\n",
              "    <tr>\n",
              "      <th>7153</th>\n",
              "      <td>33.8</td>\n",
              "      <td>-118.3</td>\n",
              "      <td>35.0</td>\n",
              "      <td>2924.0</td>\n",
              "      <td>658.0</td>\n",
              "      <td>1675.0</td>\n",
              "      <td>602.0</td>\n",
              "      <td>3.8</td>\n",
              "      <td>1.7</td>\n",
              "    </tr>\n",
              "  </tbody>\n",
              "</table>\n",
              "</div>"
            ],
            "text/plain": [
              "       latitude  longitude  housing_median_age  total_rooms  total_bedrooms  \\\n",
              "5459       34.0     -118.2                37.0        690.0           261.0   \n",
              "15144      37.8     -122.3                29.0        335.0           107.0   \n",
              "7023       33.8     -118.3                30.0       1773.0           356.0   \n",
              "366        32.7     -116.9                 8.0       4630.0           624.0   \n",
              "14345      37.4     -122.1                37.0       2511.0           354.0   \n",
              "13974      37.9     -122.0                20.0       5467.0          1044.0   \n",
              "7161       33.4     -118.3                27.0       1675.0           521.0   \n",
              "2352       33.9     -117.5                26.0       2970.0           576.0   \n",
              "7153       33.8     -118.3                35.0       2924.0           658.0   \n",
              "\n",
              "       population  households  median_income  rooms_per_person  \n",
              "5459        952.0       255.0            1.6               0.7  \n",
              "15144       202.0        91.0            2.0               1.7  \n",
              "7023        905.0       352.0            4.3               2.0  \n",
              "366        2048.0       575.0            6.5               2.3  \n",
              "14345       945.0       348.0            8.4               2.7  \n",
              "13974      2310.0       963.0            5.7               2.4  \n",
              "7161        744.0       331.0            2.2               2.3  \n",
              "2352       2156.0       558.0            4.0               1.4  \n",
              "7153       1675.0       602.0            3.8               1.7  "
            ]
          },
          "metadata": {
            "tags": []
          },
          "execution_count": 10
        }
      ]
    },
    {
      "metadata": {
        "id": "jIz8MoxeR6zO",
        "colab_type": "code",
        "outputId": "3442d4be-e68a-4d97-9e01-32af9b24aa46",
        "colab": {
          "base_uri": "https://localhost:8080/",
          "height": 1853
        }
      },
      "cell_type": "code",
      "source": [
        "dict(training_examples).items()[:9]"
      ],
      "execution_count": 11,
      "outputs": [
        {
          "output_type": "execute_result",
          "data": {
            "text/plain": [
              "[('total_bedrooms', 5459     261.0\n",
              "  15144    107.0\n",
              "  7023     356.0\n",
              "  366      624.0\n",
              "  14345    354.0\n",
              "           ...  \n",
              "  10249    293.0\n",
              "  1540     533.0\n",
              "  2622     501.0\n",
              "  3858     496.0\n",
              "  10284   1358.0\n",
              "  Name: total_bedrooms, Length: 12000, dtype: float64),\n",
              " ('median_income', 5459    1.6\n",
              "  15144   2.0\n",
              "  7023    4.3\n",
              "  366     6.5\n",
              "  14345   8.4\n",
              "           ..\n",
              "  10249   2.7\n",
              "  1540    4.2\n",
              "  2622    6.7\n",
              "  3858    5.1\n",
              "  10284   2.1\n",
              "  Name: median_income, Length: 12000, dtype: float64),\n",
              " ('households', 5459    255.0\n",
              "  15144    91.0\n",
              "  7023    352.0\n",
              "  366     575.0\n",
              "  14345   348.0\n",
              "           ... \n",
              "  10249   226.0\n",
              "  1540    513.0\n",
              "  2622    520.0\n",
              "  3858    496.0\n",
              "  10284   189.0\n",
              "  Name: households, Length: 12000, dtype: float64),\n",
              " ('housing_median_age', 5459    37.0\n",
              "  15144   29.0\n",
              "  7023    30.0\n",
              "  366      8.0\n",
              "  14345   37.0\n",
              "          ... \n",
              "  10249   25.0\n",
              "  1540    28.0\n",
              "  2622    17.0\n",
              "  3858    28.0\n",
              "  10284   26.0\n",
              "  Name: housing_median_age, Length: 12000, dtype: float64),\n",
              " ('longitude', 5459    -118.2\n",
              "  15144   -122.3\n",
              "  7023    -118.3\n",
              "  366     -116.9\n",
              "  14345   -122.1\n",
              "           ...  \n",
              "  10249   -120.0\n",
              "  1540    -117.2\n",
              "  2622    -117.7\n",
              "  3858    -118.0\n",
              "  10284   -120.0\n",
              "  Name: longitude, Length: 12000, dtype: float64),\n",
              " ('total_rooms', 5459     690.0\n",
              "  15144    335.0\n",
              "  7023    1773.0\n",
              "  366     4630.0\n",
              "  14345   2511.0\n",
              "           ...  \n",
              "  10249   1262.0\n",
              "  1540    3241.0\n",
              "  2622    3173.0\n",
              "  3858    2851.0\n",
              "  10284   7005.0\n",
              "  Name: total_rooms, Length: 12000, dtype: float64),\n",
              " ('rooms_per_person', 5459     0.7\n",
              "  15144    1.7\n",
              "  7023     2.0\n",
              "  366      2.3\n",
              "  14345    2.7\n",
              "          ... \n",
              "  10249    2.4\n",
              "  1540     2.4\n",
              "  2622     2.0\n",
              "  3858     2.2\n",
              "  10284   16.8\n",
              "  Name: rooms_per_person, Length: 12000, dtype: float64),\n",
              " ('latitude', 5459    34.0\n",
              "  15144   37.8\n",
              "  7023    33.8\n",
              "  366     32.7\n",
              "  14345   37.4\n",
              "          ... \n",
              "  10249   38.9\n",
              "  1540    32.8\n",
              "  2622    33.6\n",
              "  3858    33.9\n",
              "  10284   38.2\n",
              "  Name: latitude, Length: 12000, dtype: float64),\n",
              " ('population', 5459     952.0\n",
              "  15144    202.0\n",
              "  7023     905.0\n",
              "  366     2048.0\n",
              "  14345    945.0\n",
              "           ...  \n",
              "  10249    534.0\n",
              "  1540    1334.0\n",
              "  2622    1555.0\n",
              "  3858    1287.0\n",
              "  10284    416.0\n",
              "  Name: population, Length: 12000, dtype: float64)]"
            ]
          },
          "metadata": {
            "tags": []
          },
          "execution_count": 11
        }
      ]
    },
    {
      "metadata": {
        "id": "UjarVIhdSCjt",
        "colab_type": "code",
        "outputId": "23670207-21a9-4a89-9bd4-74b4ed482cd7",
        "colab": {
          "base_uri": "https://localhost:8080/",
          "height": 629
        }
      },
      "cell_type": "code",
      "source": [
        "for k,v in dict(training_examples).items()[-3:]:\n",
        "    print('key is {}, value is {}'.format(k,v))\n"
      ],
      "execution_count": 12,
      "outputs": [
        {
          "output_type": "stream",
          "text": [
            "key is rooms_per_person, value is 5459     0.7\n",
            "15144    1.7\n",
            "7023     2.0\n",
            "366      2.3\n",
            "14345    2.7\n",
            "        ... \n",
            "10249    2.4\n",
            "1540     2.4\n",
            "2622     2.0\n",
            "3858     2.2\n",
            "10284   16.8\n",
            "Name: rooms_per_person, Length: 12000, dtype: float64\n",
            "key is latitude, value is 5459    34.0\n",
            "15144   37.8\n",
            "7023    33.8\n",
            "366     32.7\n",
            "14345   37.4\n",
            "        ... \n",
            "10249   38.9\n",
            "1540    32.8\n",
            "2622    33.6\n",
            "3858    33.9\n",
            "10284   38.2\n",
            "Name: latitude, Length: 12000, dtype: float64\n",
            "key is population, value is 5459     952.0\n",
            "15144    202.0\n",
            "7023     905.0\n",
            "366     2048.0\n",
            "14345    945.0\n",
            "         ...  \n",
            "10249    534.0\n",
            "1540    1334.0\n",
            "2622    1555.0\n",
            "3858    1287.0\n",
            "10284    416.0\n",
            "Name: population, Length: 12000, dtype: float64\n"
          ],
          "name": "stdout"
        }
      ]
    },
    {
      "metadata": {
        "id": "wsVKWRXKSvNm",
        "colab_type": "code",
        "outputId": "2312803e-79ae-4f00-c9d0-62f448fc2e6a",
        "colab": {
          "base_uri": "https://localhost:8080/",
          "height": 153
        }
      },
      "cell_type": "code",
      "source": [
        "for k,v in dict(training_examples).items()[-3:]:\n",
        "    print('key:np.array(value) is {}'.format({k:np.array(v)}))\n",
        "    fea = {k:np.array(v)}\n",
        "    print(fea)"
      ],
      "execution_count": 13,
      "outputs": [
        {
          "output_type": "stream",
          "text": [
            "key:np.array(value) is {'rooms_per_person': array([ 0.72478992,  1.65841584,  1.95911602, ...,  2.04051447,\n",
            "        2.21522922, 16.83894231])}\n",
            "{'rooms_per_person': array([ 0.72478992,  1.65841584,  1.95911602, ...,  2.04051447,\n",
            "        2.21522922, 16.83894231])}\n",
            "key:np.array(value) is {'latitude': array([34.01, 37.81, 33.81, ..., 33.64, 33.94, 38.19])}\n",
            "{'latitude': array([34.01, 37.81, 33.81, ..., 33.64, 33.94, 38.19])}\n",
            "key:np.array(value) is {'population': array([ 952.,  202.,  905., ..., 1555., 1287.,  416.])}\n",
            "{'population': array([ 952.,  202.,  905., ..., 1555., 1287.,  416.])}\n"
          ],
          "name": "stdout"
        }
      ]
    },
    {
      "metadata": {
        "id": "3k0yw6sOVM0I",
        "colab_type": "code",
        "outputId": "70fe1bc1-512e-461c-bc0b-24be175053fe",
        "colab": {
          "base_uri": "https://localhost:8080/",
          "height": 142
        }
      },
      "cell_type": "code",
      "source": [
        "validation_examples.quantile([0.25, 0.5,1])"
      ],
      "execution_count": 14,
      "outputs": [
        {
          "output_type": "execute_result",
          "data": {
            "text/html": [
              "<div>\n",
              "<style scoped>\n",
              "    .dataframe tbody tr th:only-of-type {\n",
              "        vertical-align: middle;\n",
              "    }\n",
              "\n",
              "    .dataframe tbody tr th {\n",
              "        vertical-align: top;\n",
              "    }\n",
              "\n",
              "    .dataframe thead th {\n",
              "        text-align: right;\n",
              "    }\n",
              "</style>\n",
              "<table border=\"1\" class=\"dataframe\">\n",
              "  <thead>\n",
              "    <tr style=\"text-align: right;\">\n",
              "      <th></th>\n",
              "      <th>latitude</th>\n",
              "      <th>longitude</th>\n",
              "      <th>housing_median_age</th>\n",
              "      <th>total_rooms</th>\n",
              "      <th>total_bedrooms</th>\n",
              "      <th>population</th>\n",
              "      <th>households</th>\n",
              "      <th>median_income</th>\n",
              "      <th>rooms_per_person</th>\n",
              "    </tr>\n",
              "  </thead>\n",
              "  <tbody>\n",
              "    <tr>\n",
              "      <th>0.2</th>\n",
              "      <td>33.9</td>\n",
              "      <td>-121.8</td>\n",
              "      <td>18.0</td>\n",
              "      <td>1465.0</td>\n",
              "      <td>300.0</td>\n",
              "      <td>800.0</td>\n",
              "      <td>285.0</td>\n",
              "      <td>2.6</td>\n",
              "      <td>1.5</td>\n",
              "    </tr>\n",
              "    <tr>\n",
              "      <th>0.5</th>\n",
              "      <td>34.2</td>\n",
              "      <td>-118.5</td>\n",
              "      <td>29.0</td>\n",
              "      <td>2138.0</td>\n",
              "      <td>441.0</td>\n",
              "      <td>1176.0</td>\n",
              "      <td>414.0</td>\n",
              "      <td>3.5</td>\n",
              "      <td>1.9</td>\n",
              "    </tr>\n",
              "    <tr>\n",
              "      <th>1.0</th>\n",
              "      <td>41.9</td>\n",
              "      <td>-114.3</td>\n",
              "      <td>52.0</td>\n",
              "      <td>32627.0</td>\n",
              "      <td>6445.0</td>\n",
              "      <td>35682.0</td>\n",
              "      <td>6082.0</td>\n",
              "      <td>15.0</td>\n",
              "      <td>41.3</td>\n",
              "    </tr>\n",
              "  </tbody>\n",
              "</table>\n",
              "</div>"
            ],
            "text/plain": [
              "     latitude  longitude  housing_median_age  total_rooms  total_bedrooms  \\\n",
              "0.2      33.9     -121.8                18.0       1465.0           300.0   \n",
              "0.5      34.2     -118.5                29.0       2138.0           441.0   \n",
              "1.0      41.9     -114.3                52.0      32627.0          6445.0   \n",
              "\n",
              "     population  households  median_income  rooms_per_person  \n",
              "0.2       800.0       285.0            2.6               1.5  \n",
              "0.5      1176.0       414.0            3.5               1.9  \n",
              "1.0     35682.0      6082.0           15.0              41.3  "
            ]
          },
          "metadata": {
            "tags": []
          },
          "execution_count": 14
        }
      ]
    },
    {
      "metadata": {
        "id": "yMQIt0CWesFM",
        "colab_type": "code",
        "outputId": "de9d0872-1253-4392-bd8c-fd88975b6d05",
        "colab": {
          "base_uri": "https://localhost:8080/",
          "height": 629
        }
      },
      "cell_type": "code",
      "source": [
        "quan = validation_examples.quantile([0.25, 0.5,1])\n",
        "for key in quan.keys():\n",
        "  print(quan[key])"
      ],
      "execution_count": 15,
      "outputs": [
        {
          "output_type": "stream",
          "text": [
            "0.2   33.9\n",
            "0.5   34.2\n",
            "1.0   41.9\n",
            "Name: latitude, dtype: float64\n",
            "0.2   -121.8\n",
            "0.5   -118.5\n",
            "1.0   -114.3\n",
            "Name: longitude, dtype: float64\n",
            "0.2   18.0\n",
            "0.5   29.0\n",
            "1.0   52.0\n",
            "Name: housing_median_age, dtype: float64\n",
            "0.2    1465.0\n",
            "0.5    2138.0\n",
            "1.0   32627.0\n",
            "Name: total_rooms, dtype: float64\n",
            "0.2    300.0\n",
            "0.5    441.0\n",
            "1.0   6445.0\n",
            "Name: total_bedrooms, dtype: float64\n",
            "0.2     800.0\n",
            "0.5    1176.0\n",
            "1.0   35682.0\n",
            "Name: population, dtype: float64\n",
            "0.2    285.0\n",
            "0.5    414.0\n",
            "1.0   6082.0\n",
            "Name: households, dtype: float64\n",
            "0.2    2.6\n",
            "0.5    3.5\n",
            "1.0   15.0\n",
            "Name: median_income, dtype: float64\n",
            "0.2    1.5\n",
            "0.5    1.9\n",
            "1.0   41.3\n",
            "Name: rooms_per_person, dtype: float64\n"
          ],
          "name": "stdout"
        }
      ]
    },
    {
      "metadata": {
        "id": "TKBU0ROhSr7q",
        "colab_type": "code",
        "outputId": "cf1d9b9e-ca0e-4070-fc4b-58ac486b3d4b",
        "colab": {
          "base_uri": "https://localhost:8080/",
          "height": 297
        }
      },
      "cell_type": "code",
      "source": [
        "validation_examples.describe()"
      ],
      "execution_count": 16,
      "outputs": [
        {
          "output_type": "execute_result",
          "data": {
            "text/html": [
              "<div>\n",
              "<style scoped>\n",
              "    .dataframe tbody tr th:only-of-type {\n",
              "        vertical-align: middle;\n",
              "    }\n",
              "\n",
              "    .dataframe tbody tr th {\n",
              "        vertical-align: top;\n",
              "    }\n",
              "\n",
              "    .dataframe thead th {\n",
              "        text-align: right;\n",
              "    }\n",
              "</style>\n",
              "<table border=\"1\" class=\"dataframe\">\n",
              "  <thead>\n",
              "    <tr style=\"text-align: right;\">\n",
              "      <th></th>\n",
              "      <th>latitude</th>\n",
              "      <th>longitude</th>\n",
              "      <th>housing_median_age</th>\n",
              "      <th>total_rooms</th>\n",
              "      <th>total_bedrooms</th>\n",
              "      <th>population</th>\n",
              "      <th>households</th>\n",
              "      <th>median_income</th>\n",
              "      <th>rooms_per_person</th>\n",
              "    </tr>\n",
              "  </thead>\n",
              "  <tbody>\n",
              "    <tr>\n",
              "      <th>count</th>\n",
              "      <td>5000.0</td>\n",
              "      <td>5000.0</td>\n",
              "      <td>5000.0</td>\n",
              "      <td>5000.0</td>\n",
              "      <td>5000.0</td>\n",
              "      <td>5000.0</td>\n",
              "      <td>5000.0</td>\n",
              "      <td>5000.0</td>\n",
              "      <td>5000.0</td>\n",
              "    </tr>\n",
              "    <tr>\n",
              "      <th>mean</th>\n",
              "      <td>35.6</td>\n",
              "      <td>-119.5</td>\n",
              "      <td>28.7</td>\n",
              "      <td>2667.0</td>\n",
              "      <td>545.3</td>\n",
              "      <td>1452.5</td>\n",
              "      <td>507.9</td>\n",
              "      <td>3.9</td>\n",
              "      <td>2.0</td>\n",
              "    </tr>\n",
              "    <tr>\n",
              "      <th>std</th>\n",
              "      <td>2.1</td>\n",
              "      <td>2.0</td>\n",
              "      <td>12.6</td>\n",
              "      <td>2228.5</td>\n",
              "      <td>433.1</td>\n",
              "      <td>1266.8</td>\n",
              "      <td>397.6</td>\n",
              "      <td>1.9</td>\n",
              "      <td>1.2</td>\n",
              "    </tr>\n",
              "    <tr>\n",
              "      <th>min</th>\n",
              "      <td>32.5</td>\n",
              "      <td>-124.3</td>\n",
              "      <td>1.0</td>\n",
              "      <td>15.0</td>\n",
              "      <td>3.0</td>\n",
              "      <td>3.0</td>\n",
              "      <td>3.0</td>\n",
              "      <td>0.5</td>\n",
              "      <td>0.1</td>\n",
              "    </tr>\n",
              "    <tr>\n",
              "      <th>25%</th>\n",
              "      <td>33.9</td>\n",
              "      <td>-121.8</td>\n",
              "      <td>18.0</td>\n",
              "      <td>1465.0</td>\n",
              "      <td>300.0</td>\n",
              "      <td>800.0</td>\n",
              "      <td>285.0</td>\n",
              "      <td>2.6</td>\n",
              "      <td>1.5</td>\n",
              "    </tr>\n",
              "    <tr>\n",
              "      <th>50%</th>\n",
              "      <td>34.2</td>\n",
              "      <td>-118.5</td>\n",
              "      <td>29.0</td>\n",
              "      <td>2138.0</td>\n",
              "      <td>441.0</td>\n",
              "      <td>1176.0</td>\n",
              "      <td>414.0</td>\n",
              "      <td>3.5</td>\n",
              "      <td>1.9</td>\n",
              "    </tr>\n",
              "    <tr>\n",
              "      <th>75%</th>\n",
              "      <td>37.7</td>\n",
              "      <td>-118.0</td>\n",
              "      <td>37.0</td>\n",
              "      <td>3157.0</td>\n",
              "      <td>659.2</td>\n",
              "      <td>1747.2</td>\n",
              "      <td>614.0</td>\n",
              "      <td>4.8</td>\n",
              "      <td>2.3</td>\n",
              "    </tr>\n",
              "    <tr>\n",
              "      <th>max</th>\n",
              "      <td>41.9</td>\n",
              "      <td>-114.3</td>\n",
              "      <td>52.0</td>\n",
              "      <td>32627.0</td>\n",
              "      <td>6445.0</td>\n",
              "      <td>35682.0</td>\n",
              "      <td>6082.0</td>\n",
              "      <td>15.0</td>\n",
              "      <td>41.3</td>\n",
              "    </tr>\n",
              "  </tbody>\n",
              "</table>\n",
              "</div>"
            ],
            "text/plain": [
              "       latitude  longitude  housing_median_age  total_rooms  total_bedrooms  \\\n",
              "count    5000.0     5000.0              5000.0       5000.0          5000.0   \n",
              "mean       35.6     -119.5                28.7       2667.0           545.3   \n",
              "std         2.1        2.0                12.6       2228.5           433.1   \n",
              "min        32.5     -124.3                 1.0         15.0             3.0   \n",
              "25%        33.9     -121.8                18.0       1465.0           300.0   \n",
              "50%        34.2     -118.5                29.0       2138.0           441.0   \n",
              "75%        37.7     -118.0                37.0       3157.0           659.2   \n",
              "max        41.9     -114.3                52.0      32627.0          6445.0   \n",
              "\n",
              "       population  households  median_income  rooms_per_person  \n",
              "count      5000.0      5000.0         5000.0            5000.0  \n",
              "mean       1452.5       507.9            3.9               2.0  \n",
              "std        1266.8       397.6            1.9               1.2  \n",
              "min           3.0         3.0            0.5               0.1  \n",
              "25%         800.0       285.0            2.6               1.5  \n",
              "50%        1176.0       414.0            3.5               1.9  \n",
              "75%        1747.2       614.0            4.8               2.3  \n",
              "max       35682.0      6082.0           15.0              41.3  "
            ]
          },
          "metadata": {
            "tags": []
          },
          "execution_count": 16
        }
      ]
    },
    {
      "metadata": {
        "id": "gHkniRI1Ijna",
        "colab_type": "code",
        "colab": {}
      },
      "cell_type": "code",
      "source": [
        "def my_input_fn(features, targets, batch_size=1, shuffle=True, num_epochs=None):\n",
        "    \"\"\"Trains a linear regression model.\n",
        "  \n",
        "    Args:\n",
        "      features: pandas DataFrame of features\n",
        "      targets: pandas DataFrame of targets\n",
        "      batch_size: Size of batches to be passed to the model\n",
        "      shuffle: True or False. Whether to shuffle the data.\n",
        "      num_epochs: Number of epochs for which data should be repeated. None = repeat indefinitely\n",
        "    Returns:\n",
        "      Tuple of (features, labels) for next data batch\n",
        "    \"\"\"\n",
        "  \n",
        "    # Convert pandas data into a dict of np arrays.\n",
        "    features = {key:np.array(value) for key,value in dict(features).items()}                                            \n",
        " \n",
        "    # Construct a dataset, and configure batching/repeating.\n",
        "    ds = Dataset.from_tensor_slices((features,targets)) # warning: 2GB limit\n",
        "    ds = ds.batch(batch_size).repeat(num_epochs)\n",
        "    \n",
        "    # Shuffle the data, if specified.\n",
        "    if shuffle:\n",
        "      ds = ds.shuffle(10000)\n",
        "    \n",
        "    # Return the next batch of data.\n",
        "    features, labels = ds.make_one_shot_iterator().get_next()\n",
        "    return features, labels"
      ],
      "execution_count": 0,
      "outputs": []
    },
    {
      "metadata": {
        "id": "VlBPv8zzfk9e",
        "colab_type": "code",
        "colab": {}
      },
      "cell_type": "code",
      "source": [
        ""
      ],
      "execution_count": 0,
      "outputs": []
    },
    {
      "metadata": {
        "id": "bLzK72jkNJPf",
        "colab_type": "code",
        "colab": {}
      },
      "cell_type": "code",
      "source": [
        "def get_quantile_based_buckets(feature_values, num_buckets):\n",
        "  quantiles = feature_values.quantile(\n",
        "    [(i+1.)/(num_buckets + 1.) for i in range(num_buckets)])\n",
        "  return [quantiles[q] for q in quantiles.keys()]"
      ],
      "execution_count": 0,
      "outputs": []
    },
    {
      "metadata": {
        "id": "4DKF4EBgfljF",
        "colab_type": "code",
        "colab": {}
      },
      "cell_type": "code",
      "source": [
        ""
      ],
      "execution_count": 0,
      "outputs": []
    },
    {
      "metadata": {
        "id": "al2YQpKyIjnd",
        "colab_type": "code",
        "colab": {}
      },
      "cell_type": "code",
      "source": [
        "def construct_feature_columns():\n",
        "  \"\"\"Construct the TensorFlow Feature Columns.\n",
        "\n",
        "  Returns:\n",
        "    A set of feature columns\n",
        "  \"\"\"\n",
        "\n",
        "  bucketized_households = tf.feature_column.bucketized_column(\n",
        "    tf.feature_column.numeric_column(\"households\"),\n",
        "    boundaries=get_quantile_based_buckets(training_examples[\"households\"], 10))\n",
        "  bucketized_longitude = tf.feature_column.bucketized_column(\n",
        "    tf.feature_column.numeric_column(\"longitude\"),\n",
        "    boundaries=get_quantile_based_buckets(training_examples[\"longitude\"], 50))\n",
        "  bucketized_latitude = tf.feature_column.bucketized_column(\n",
        "    tf.feature_column.numeric_column(\"latitude\"),\n",
        "    boundaries=get_quantile_based_buckets(training_examples[\"latitude\"], 50))\n",
        "  bucketized_housing_median_age = tf.feature_column.bucketized_column(\n",
        "    tf.feature_column.numeric_column(\"housing_median_age\"),\n",
        "    boundaries=get_quantile_based_buckets(\n",
        "      training_examples[\"housing_median_age\"], 10))\n",
        "  bucketized_total_rooms = tf.feature_column.bucketized_column(\n",
        "    tf.feature_column.numeric_column(\"total_rooms\"),\n",
        "    boundaries=get_quantile_based_buckets(training_examples[\"total_rooms\"], 10))\n",
        "  bucketized_total_bedrooms = tf.feature_column.bucketized_column(\n",
        "    tf.feature_column.numeric_column(\"total_bedrooms\"),\n",
        "    boundaries=get_quantile_based_buckets(training_examples[\"total_bedrooms\"], 10))\n",
        "  bucketized_population = tf.feature_column.bucketized_column(\n",
        "    tf.feature_column.numeric_column(\"population\"),\n",
        "    boundaries=get_quantile_based_buckets(training_examples[\"population\"], 10))\n",
        "  bucketized_median_income = tf.feature_column.bucketized_column(\n",
        "    tf.feature_column.numeric_column(\"median_income\"),\n",
        "    boundaries=get_quantile_based_buckets(training_examples[\"median_income\"], 10))\n",
        "  bucketized_rooms_per_person = tf.feature_column.bucketized_column(\n",
        "    tf.feature_column.numeric_column(\"rooms_per_person\"),\n",
        "    boundaries=get_quantile_based_buckets(\n",
        "      training_examples[\"rooms_per_person\"], 10))\n",
        "\n",
        "  long_x_lat = tf.feature_column.crossed_column(\n",
        "    set([bucketized_longitude, bucketized_latitude]), hash_bucket_size=1000)\n",
        "\n",
        "  feature_columns = set([\n",
        "    long_x_lat,\n",
        "    bucketized_longitude,\n",
        "    bucketized_latitude,\n",
        "    bucketized_housing_median_age,\n",
        "    bucketized_total_rooms,\n",
        "    bucketized_total_bedrooms,\n",
        "    bucketized_population,\n",
        "    bucketized_households,\n",
        "    bucketized_median_income,\n",
        "    bucketized_rooms_per_person])\n",
        "  \n",
        "  return feature_columns"
      ],
      "execution_count": 0,
      "outputs": []
    },
    {
      "metadata": {
        "id": "0tXy6_gvu0QU",
        "colab_type": "code",
        "colab": {}
      },
      "cell_type": "code",
      "source": [
        "bucket_feature_col = construct_feature_columns()"
      ],
      "execution_count": 0,
      "outputs": []
    },
    {
      "metadata": {
        "id": "svCulGUQvCGs",
        "colab_type": "code",
        "outputId": "0d18a9c9-285b-4dbb-852c-117eac480969",
        "colab": {
          "base_uri": "https://localhost:8080/",
          "height": 34
        }
      },
      "cell_type": "code",
      "source": [
        "len(bucket_feature_col)"
      ],
      "execution_count": 21,
      "outputs": [
        {
          "output_type": "execute_result",
          "data": {
            "text/plain": [
              "10"
            ]
          },
          "metadata": {
            "tags": []
          },
          "execution_count": 21
        }
      ]
    },
    {
      "metadata": {
        "id": "paSGPRSFwrds",
        "colab_type": "code",
        "outputId": "a672fbc5-0a89-4020-c858-8b20db446abc",
        "colab": {
          "base_uri": "https://localhost:8080/",
          "height": 207
        }
      },
      "cell_type": "code",
      "source": [
        "bucket_feature_col"
      ],
      "execution_count": 22,
      "outputs": [
        {
          "output_type": "execute_result",
          "data": {
            "text/plain": [
              "{_CrossedColumn(keys=(_BucketizedColumn(source_column=_NumericColumn(key='latitude', shape=(1,), default_value=None, dtype=tf.float32, normalizer_fn=None), boundaries=(32.73, 32.79, 32.95, 33.22, 33.62, 33.70647058823529, 33.75, 33.79, 33.82, 33.86, 33.89, 33.91, 33.94, 33.97, 33.99, 34.02, 34.04, 34.05, 34.07, 34.09, 34.11, 34.14, 34.16, 34.19, 34.23, 34.29, 34.56, 35.28, 35.94, 36.55, 36.77, 36.97, 37.28, 37.34, 37.42, 37.54, 37.65, 37.71, 37.76, 37.79, 37.83, 37.93, 37.98, 38.09, 38.33, 38.5, 38.61, 38.76, 39.18, 39.999019607843145)), _BucketizedColumn(source_column=_NumericColumn(key='longitude', shape=(1,), default_value=None, dtype=tf.float32, normalizer_fn=None), boundaries=(-122.73, -122.48999999999998, -122.44, -122.37, -122.28, -122.23999999999998, -122.18, -122.1, -122.04000000000002, -121.99, -121.93, -121.86, -121.76999999999998, -121.55, -121.41, -121.29999999999998, -121.21333333333334, -120.98, -120.64, -120.19509803921568, -119.8, -119.63, -119.22, -118.99, -118.59, -118.47, -118.42, -118.38, -118.35, -118.31764705882352, -118.29, -118.26, -118.22, -118.18, -118.15, -118.11, -118.07, -118.02, -117.96000000000001, -117.92, -117.87, -117.79, -117.67, -117.47, -117.31, -117.24, -117.15, -117.09, -117.03, -116.86))), hash_bucket_size=1000, hash_key=None),\n",
              " _BucketizedColumn(source_column=_NumericColumn(key='households', shape=(1,), default_value=None, dtype=tf.float32, normalizer_fn=None), boundaries=(177.0, 244.0, 292.0, 336.0, 382.0, 432.0, 494.727272727273, 576.0, 693.3636363636379, 934.0)),\n",
              " _BucketizedColumn(source_column=_NumericColumn(key='housing_median_age', shape=(1,), default_value=None, dtype=tf.float32, normalizer_fn=None), boundaries=(12.0, 16.0, 19.0, 23.0, 27.0, 31.0, 34.0, 36.0, 41.0, 47.0)),\n",
              " _BucketizedColumn(source_column=_NumericColumn(key='latitude', shape=(1,), default_value=None, dtype=tf.float32, normalizer_fn=None), boundaries=(32.73, 32.79, 32.95, 33.22, 33.62, 33.70647058823529, 33.75, 33.79, 33.82, 33.86, 33.89, 33.91, 33.94, 33.97, 33.99, 34.02, 34.04, 34.05, 34.07, 34.09, 34.11, 34.14, 34.16, 34.19, 34.23, 34.29, 34.56, 35.28, 35.94, 36.55, 36.77, 36.97, 37.28, 37.34, 37.42, 37.54, 37.65, 37.71, 37.76, 37.79, 37.83, 37.93, 37.98, 38.09, 38.33, 38.5, 38.61, 38.76, 39.18, 39.999019607843145)),\n",
              " _BucketizedColumn(source_column=_NumericColumn(key='longitude', shape=(1,), default_value=None, dtype=tf.float32, normalizer_fn=None), boundaries=(-122.73, -122.48999999999998, -122.44, -122.37, -122.28, -122.23999999999998, -122.18, -122.1, -122.04000000000002, -121.99, -121.93, -121.86, -121.76999999999998, -121.55, -121.41, -121.29999999999998, -121.21333333333334, -120.98, -120.64, -120.19509803921568, -119.8, -119.63, -119.22, -118.99, -118.59, -118.47, -118.42, -118.38, -118.35, -118.31764705882352, -118.29, -118.26, -118.22, -118.18, -118.15, -118.11, -118.07, -118.02, -117.96000000000001, -117.92, -117.87, -117.79, -117.67, -117.47, -117.31, -117.24, -117.15, -117.09, -117.03, -116.86)),\n",
              " _BucketizedColumn(source_column=_NumericColumn(key='median_income', shape=(1,), default_value=None, dtype=tf.float32, normalizer_fn=None), boundaries=(1.8465454545454545, 2.263172727272727, 2.643354545454545, 3.0180363636363636, 3.357181818181818, 3.7142636363636363, 4.125, 4.625, 5.254136363636364, 6.320172727272727)),\n",
              " _BucketizedColumn(source_column=_NumericColumn(key='population', shape=(1,), default_value=None, dtype=tf.float32, normalizer_fn=None), boundaries=(492.0, 679.0, 818.0, 951.0, 1090.0, 1238.0, 1414.0, 1648.0, 1974.3636363636379, 2668.0)),\n",
              " _BucketizedColumn(source_column=_NumericColumn(key='rooms_per_person', shape=(1,), default_value=None, dtype=tf.float32, normalizer_fn=None), boundaries=(1.0880004243384054, 1.3624067179741972, 1.5717736637216735, 1.7496119155132612, 1.8865762098597918, 2.0042770213545498, 2.1301767511379506, 2.263342411565196, 2.425051210259021, 2.6978680631966983)),\n",
              " _BucketizedColumn(source_column=_NumericColumn(key='total_bedrooms', shape=(1,), default_value=None, dtype=tf.float32, normalizer_fn=None), boundaries=(191.0, 259.0, 309.0, 356.0, 407.0, 462.0, 528.0, 618.0, 749.0, 1011.181818181818)),\n",
              " _BucketizedColumn(source_column=_NumericColumn(key='total_rooms', shape=(1,), default_value=None, dtype=tf.float32, normalizer_fn=None), boundaries=(898.0, 1256.0, 1514.0, 1745.272727272727, 1995.090909090909, 2260.0, 2593.727272727273, 3024.545454545454, 3605.0, 4872.0))}"
            ]
          },
          "metadata": {
            "tags": []
          },
          "execution_count": 22
        }
      ]
    },
    {
      "metadata": {
        "id": "qTnm9njJwFjt",
        "colab_type": "code",
        "outputId": "48dd733e-c9d5-4246-c854-795244a00b4e",
        "colab": {
          "base_uri": "https://localhost:8080/",
          "height": 357
        }
      },
      "cell_type": "code",
      "source": [
        "for s in bucket_feature_col:\n",
        "  print(s.index)\n",
        "  print(s.name)"
      ],
      "execution_count": 23,
      "outputs": [
        {
          "output_type": "stream",
          "text": [
            "<built-in method index of _BucketizedColumn object at 0x7fa1005fce68>\n",
            "rooms_per_person_bucketized\n",
            "<built-in method index of _BucketizedColumn object at 0x7fa1005fcc00>\n",
            "longitude_bucketized\n",
            "<built-in method index of _BucketizedColumn object at 0x7fa1005fcd08>\n",
            "latitude_bucketized\n",
            "<built-in method index of _BucketizedColumn object at 0x7fa1005fce10>\n",
            "median_income_bucketized\n",
            "<built-in method index of _BucketizedColumn object at 0x7fa1005fcc58>\n",
            "total_rooms_bucketized\n",
            "<built-in method index of _BucketizedColumn object at 0x7fa1005fcd60>\n",
            "total_bedrooms_bucketized\n",
            "<built-in method index of _CrossedColumn object at 0x7fa100593050>\n",
            "latitude_bucketized_X_longitude_bucketized\n",
            "<built-in method index of _BucketizedColumn object at 0x7fa1005fcba8>\n",
            "housing_median_age_bucketized\n",
            "<built-in method index of _BucketizedColumn object at 0x7fa1005fccb0>\n",
            "households_bucketized\n",
            "<built-in method index of _BucketizedColumn object at 0x7fa1005fcdb8>\n",
            "population_bucketized\n"
          ],
          "name": "stdout"
        }
      ]
    },
    {
      "metadata": {
        "id": "hSBwMrsrE21n",
        "colab_type": "text"
      },
      "cell_type": "markdown",
      "source": [
        "## Calculate the Model Size\n",
        "\n",
        "To calculate the model size, we simply count the number of parameters that are non-zero. We provide a helper function below to do that. The function uses intimate knowledge of the Estimators API - don't worry about understanding how it works."
      ]
    },
    {
      "metadata": {
        "id": "e6GfTI0CFhB8",
        "colab_type": "code",
        "colab": {}
      },
      "cell_type": "code",
      "source": [
        "def model_size(estimator):\n",
        "  variables = estimator.get_variable_names()\n",
        "  size = 0\n",
        "  for variable in variables:\n",
        "    if not any(x in variable \n",
        "               for x in ['global_step',\n",
        "                         'centered_bias_weight',\n",
        "                         'bias_weight',\n",
        "                         'Ftrl']\n",
        "              ):\n",
        "      size += np.count_nonzero(estimator.get_variable_value(variable))\n",
        "  return size"
      ],
      "execution_count": 0,
      "outputs": []
    },
    {
      "metadata": {
        "id": "XabdAaj67GfF",
        "colab_type": "text"
      },
      "cell_type": "markdown",
      "source": [
        "## Reduce the Model Size\n",
        "\n",
        "Your team needs to build a highly accurate Logistic Regression model on the *SmartRing*, a ring that is so smart it can sense the demographics of a city block ('median_income', 'avg_rooms', 'households', ..., etc.) and tell you whether the given city block is high cost city block or not.\n",
        "\n",
        "Since the SmartRing is small, the engineering team has determined that it can only handle a model that has **no more than 600 parameters**. On the other hand, the product management team has determined that the model is not launchable unless the **LogLoss is less than 0.35** on the holdout test set.\n",
        "\n",
        "Can you use your secret weapon—L1 regularization—to tune the model to satisfy both the size and accuracy constraints?"
      ]
    },
    {
      "metadata": {
        "id": "G79hGRe7qqej",
        "colab_type": "text"
      },
      "cell_type": "markdown",
      "source": [
        "### Task 1: Find a good regularization coefficient.\n",
        "\n",
        "**Find an L1 regularization strength parameter which satisfies both constraints — model size is less than 600 and log-loss is less than 0.35 on validation set.**\n",
        "\n",
        "The following code will help you get started. There are many ways to apply regularization to your model. Here, we chose to do it using `FtrlOptimizer`, which is designed to give better results with L1 regularization than standard gradient descent.\n",
        "\n",
        "Again, the model will train on the entire data set, so expect it to run slower than normal."
      ]
    },
    {
      "metadata": {
        "id": "1Fcdm0hpIjnl",
        "colab_type": "code",
        "colab": {}
      },
      "cell_type": "code",
      "source": [
        "def train_linear_classifier_model(\n",
        "    learning_rate,\n",
        "    regularization_strength,\n",
        "    steps,\n",
        "    batch_size,\n",
        "    feature_columns,\n",
        "    training_examples,\n",
        "    training_targets,\n",
        "    validation_examples,\n",
        "    validation_targets):\n",
        "  \"\"\"Trains a linear regression model.\n",
        "  \n",
        "  In addition to training, this function also prints training progress information,\n",
        "  as well as a plot of the training and validation loss over time.\n",
        "  \n",
        "  Args:\n",
        "    learning_rate: A `float`, the learning rate.\n",
        "    regularization_strength: A `float` that indicates the strength of the L1\n",
        "       regularization. A value of `0.0` means no regularization.\n",
        "    steps: A non-zero `int`, the total number of training steps. A training step\n",
        "      consists of a forward and backward pass using a single batch.\n",
        "    feature_columns: A `set` specifying the input feature columns to use.\n",
        "    training_examples: A `DataFrame` containing one or more columns from\n",
        "      `california_housing_dataframe` to use as input features for training.\n",
        "    training_targets: A `DataFrame` containing exactly one column from\n",
        "      `california_housing_dataframe` to use as target for training.\n",
        "    validation_examples: A `DataFrame` containing one or more columns from\n",
        "      `california_housing_dataframe` to use as input features for validation.\n",
        "    validation_targets: A `DataFrame` containing exactly one column from\n",
        "      `california_housing_dataframe` to use as target for validation.\n",
        "      \n",
        "  Returns:\n",
        "    A `LinearClassifier` object trained on the training data.\n",
        "  \"\"\"\n",
        "\n",
        "  periods = 7\n",
        "  steps_per_period = steps / periods\n",
        "\n",
        "  # Create a linear classifier object.\n",
        "  my_optimizer = tf.train.FtrlOptimizer(learning_rate=learning_rate, l1_regularization_strength=regularization_strength)\n",
        "  my_optimizer = tf.contrib.estimator.clip_gradients_by_norm(my_optimizer, 5.0)\n",
        "  linear_classifier = tf.estimator.LinearClassifier(\n",
        "      feature_columns=feature_columns,\n",
        "      optimizer=my_optimizer\n",
        "  )\n",
        "  \n",
        "  # Create input functions.\n",
        "  training_input_fn = lambda: my_input_fn(training_examples, \n",
        "                                          training_targets[\"median_house_value_is_high\"], \n",
        "                                          batch_size=batch_size)\n",
        "  predict_training_input_fn = lambda: my_input_fn(training_examples, \n",
        "                                                  training_targets[\"median_house_value_is_high\"], \n",
        "                                                  num_epochs=1, \n",
        "                                                  shuffle=False)\n",
        "  predict_validation_input_fn = lambda: my_input_fn(validation_examples, \n",
        "                                                    validation_targets[\"median_house_value_is_high\"], \n",
        "                                                    num_epochs=1, \n",
        "                                                    shuffle=False)\n",
        "  \n",
        "  # Train the model, but do so inside a loop so that we can periodically assess\n",
        "  # loss metrics.\n",
        "  print(\"Training model...\")\n",
        "  print(\"LogLoss (on validation data):\")\n",
        "  training_log_losses = []\n",
        "  validation_log_losses = []\n",
        "  for period in range (0, periods):\n",
        "    # Train the model, starting from the prior state.\n",
        "    linear_classifier.train(\n",
        "        input_fn=training_input_fn,\n",
        "        steps=steps_per_period\n",
        "    )\n",
        "    # Take a break and compute predictions.\n",
        "    training_probabilities = linear_classifier.predict(input_fn=predict_training_input_fn)\n",
        "    training_probabilities = np.array([item['probabilities'] for item in training_probabilities])\n",
        "    \n",
        "    validation_probabilities = linear_classifier.predict(input_fn=predict_validation_input_fn)\n",
        "    validation_probabilities = np.array([item['probabilities'] for item in validation_probabilities])\n",
        "    \n",
        "    # Compute training and validation loss.\n",
        "    training_log_loss = metrics.log_loss(training_targets, training_probabilities)\n",
        "    validation_log_loss = metrics.log_loss(validation_targets, validation_probabilities)\n",
        "    # Occasionally print the current loss.\n",
        "    print(\"  period %02d : %0.2f\" % (period, validation_log_loss))\n",
        "    # Add the loss metrics from this period to our list.\n",
        "    training_log_losses.append(training_log_loss)\n",
        "    validation_log_losses.append(validation_log_loss)\n",
        "  print(\"Model training finished.\")\n",
        "\n",
        "  # Output a graph of loss metrics over periods.\n",
        "  plt.ylabel(\"LogLoss\")\n",
        "  plt.xlabel(\"Periods\")\n",
        "  plt.title(\"LogLoss vs. Periods\")\n",
        "  plt.tight_layout()\n",
        "  plt.plot(training_log_losses, label=\"training\")\n",
        "  plt.plot(validation_log_losses, label=\"validation\")\n",
        "  plt.legend()\n",
        "\n",
        "  return linear_classifier"
      ],
      "execution_count": 0,
      "outputs": []
    },
    {
      "metadata": {
        "id": "9H1CKHSzIjno",
        "colab_type": "code",
        "colab": {
          "base_uri": "https://localhost:8080/",
          "height": 588
        },
        "outputId": "4aea6bd6-8138-4d7c-d429-415fa0da3750"
      },
      "cell_type": "code",
      "source": [
        "linear_classifier = train_linear_classifier_model(\n",
        "    learning_rate=0.1,\n",
        "    # TWEAK THE REGULARIZATION VALUE BELOW\n",
        "    regularization_strength=2.0,\n",
        "    steps=300,\n",
        "    batch_size=100,\n",
        "    feature_columns=construct_feature_columns(),\n",
        "    training_examples=training_examples,\n",
        "    training_targets=training_targets,\n",
        "    validation_examples=validation_examples,\n",
        "    validation_targets=validation_targets)\n",
        "print(\"Model size:\", model_size(linear_classifier))"
      ],
      "execution_count": 30,
      "outputs": [
        {
          "output_type": "stream",
          "text": [
            "Training model...\n",
            "LogLoss (on validation data):\n",
            "  period 00 : 0.35\n",
            "  period 01 : 0.30\n",
            "  period 02 : 0.28\n",
            "  period 03 : 0.27\n",
            "  period 04 : 0.26\n",
            "  period 05 : 0.26\n",
            "  period 06 : 0.26\n",
            "Model training finished.\n",
            "Model size: 415\n"
          ],
          "name": "stdout"
        },
        {
          "output_type": "display_data",
          "data": {
            "image/png": "[encoded data removed]",
            "text/plain": [
              "<matplotlib.figure.Figure at 0x7fa0f53abb10>"
            ]
          },
          "metadata": {
            "tags": []
          }
        }
      ]
    },
    {
      "metadata": {
        "id": "yjUCX5LAkxAX",
        "colab_type": "text"
      },
      "cell_type": "markdown",
      "source": [
        "### Solution\n",
        "\n",
        "Click below to see a possible solution."
      ]
    },
    {
      "metadata": {
        "id": "hgGhy-okmkWL",
        "colab_type": "text"
      },
      "cell_type": "markdown",
      "source": [
        "A regularization strength of 0.1 should be sufficient. Note that there is a compromise to be struck:\n",
        "stronger regularization gives us smaller models, but can affect the classification loss."
      ]
    },
    {
      "metadata": {
        "id": "_rV8YQWZIjns",
        "colab_type": "code",
        "colab": {
          "base_uri": "https://localhost:8080/",
          "height": 588
        },
        "outputId": "fe7bee15-88f4-4c21-a684-f8d76e6b8735"
      },
      "cell_type": "code",
      "source": [
        "linear_classifier = train_linear_classifier_model(\n",
        "    learning_rate=0.1,\n",
        "    regularization_strength=0.1,\n",
        "    steps=300,\n",
        "    batch_size=100,\n",
        "    feature_columns=construct_feature_columns(),\n",
        "    training_examples=training_examples,\n",
        "    training_targets=training_targets,\n",
        "    validation_examples=validation_examples,\n",
        "    validation_targets=validation_targets)\n",
        "print(\"Model size:\", model_size(linear_classifier))"
      ],
      "execution_count": 31,
      "outputs": [
        {
          "output_type": "stream",
          "text": [
            "Training model...\n",
            "LogLoss (on validation data):\n",
            "  period 00 : 0.31\n",
            "  period 01 : 0.28\n",
            "  period 02 : 0.27\n",
            "  period 03 : 0.26\n",
            "  period 04 : 0.25\n",
            "  period 05 : 0.25\n",
            "  period 06 : 0.25\n",
            "Model training finished.\n",
            "Model size: 759\n"
          ],
          "name": "stdout"
        },
        {
          "output_type": "display_data",
          "data": {
            "image/png": "[encoded data removed]",
            "text/plain": [
              "<matplotlib.figure.Figure at 0x7fa0f2b93690>"
            ]
          },
          "metadata": {
            "tags": []
          }
        }
      ]
    },
    {
      "metadata": {
        "id": "ENw4NBxKrJ_2",
        "colab_type": "code",
        "colab": {}
      },
      "cell_type": "code",
      "source": [
        ""
      ],
      "execution_count": 0,
      "outputs": []
    }
  ]
}